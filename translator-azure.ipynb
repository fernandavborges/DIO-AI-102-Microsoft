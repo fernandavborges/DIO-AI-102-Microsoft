{
 "cells": [
  {
   "cell_type": "code",
   "execution_count": 3,
   "metadata": {},
   "outputs": [],
   "source": [
    "import requests\n",
    "import os"
   ]
  },
  {
   "cell_type": "code",
   "execution_count": 2,
   "metadata": {},
   "outputs": [],
   "source": [
    "sub_key = \"KEY\"\n",
    "endpoint = \"https://api.cognitive.microsofttranslator.com\"\n",
    "location = \"eastus2\"\n",
    "\n",
    "language = \"pt-br\"\n"
   ]
  },
  {
   "cell_type": "code",
   "execution_count": 6,
   "metadata": {},
   "outputs": [],
   "source": [
    "def translator(text, language):\n",
    "    path = \"/translate\"\n",
    "    url = endpoint + path\n",
    "\n",
    "    headers = {\n",
    "        'Ocp-Apim-Subscription-Key': sub_key,\n",
    "        'Ocp-Apim-Subscription-Region': location,\n",
    "        'Content-type': 'application/json',\n",
    "        'X-ClientTraceId': str(os.urandom(16))\n",
    "    }\n",
    "\n",
    "    body = [{\n",
    "        'text': text\n",
    "    }]\n",
    "\n",
    "    params = {\n",
    "        'api-version': '3.0',\n",
    "        'to': language\n",
    "    }\n",
    "\n",
    "    request = requests.post(url, params=params, headers=headers, json=body)\n",
    "    response = request.json()\n",
    "    return response[0][\"translations\"][0][\"text\"]"
   ]
  },
  {
   "cell_type": "code",
   "execution_count": 7,
   "metadata": {},
   "outputs": [],
   "source": [
    "text_test = \"I m so glad you made time to see me\\nHow s life, tell me, how s your family?\\nI haven't seen them in a while\\nYou've been good, busier than ever\\nWe small talk, work and the weather\\nYour guard is up and I know why\""
   ]
  },
  {
   "cell_type": "code",
   "execution_count": 9,
   "metadata": {},
   "outputs": [
    {
     "data": {
      "text/plain": [
       "'Estou tão feliz que você arranjou tempo para me ver\\nComo está a vida, diga-me, como está sua família?\\nEu não os vejo há algum tempo\\nVocê tem estado bem, mais ocupado do que nunca\\nNós conversamos, trabalhamos e o clima\\nSua guarda está alta e eu sei por quê'"
      ]
     },
     "execution_count": 9,
     "metadata": {},
     "output_type": "execute_result"
    }
   ],
   "source": [
    "translator(text_test, language)"
   ]
  }
 ],
 "metadata": {
  "kernelspec": {
   "display_name": "Python 3",
   "language": "python",
   "name": "python3"
  },
  "language_info": {
   "codemirror_mode": {
    "name": "ipython",
    "version": 3
   },
   "file_extension": ".py",
   "mimetype": "text/x-python",
   "name": "python",
   "nbconvert_exporter": "python",
   "pygments_lexer": "ipython3",
   "version": "3.12.10"
  }
 },
 "nbformat": 4,
 "nbformat_minor": 2
}
